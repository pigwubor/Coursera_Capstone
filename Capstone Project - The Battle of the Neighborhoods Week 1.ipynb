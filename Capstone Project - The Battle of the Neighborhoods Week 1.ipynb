{
 "cells": [
  {
   "cell_type": "markdown",
   "metadata": {},
   "source": [
    "## Introduction:                                                                                                                    \n",
    "\n",
    "<h3>Background</h3>\n",
    "Canada is the one of the largest country by landmass and it is divided into seven main regions namely; Atlantic, Canadian Shield, Cordillera, Great Lakes, Prairies, North, St. Lawrence River. The Atlantic region which comprises of New Brunswick, Nova Scotia, Prince Edward Island and Newfound Land, are accepting large amount of immigrants to settle in their provinces.\n",
    "\n",
    "<b>New Brunswick (NB)</b> is my major focus in this analysis, reason is because it is one of the fastest growing province in the Atlantic and it is the only officially bilingual province that is giving a lot of opportunities to immigrants to settle in its province, while creating enabling environment for new companies to establish its business via moderate tax, mortgage and better amenities and social life to its new inhabitants. Many of the new immigrants which I am also a beneficiary are always faced with the decision of which city is the best to settle-in in terms of better education, amenities, community gathering, social life, multicultural society for bilingual speakers and so on. \n",
    "\n",
    "<b>Moncton</b> is the city of choice because it is multicultural, diverse and serves as the financial hub of New Brunswick It ranks as major cities thriving to boost the province financial wealth and economy GDP of Canada at large.\n",
    "Problem to be resolved:\n",
    "The challenge is to compare how this cities compare with other big cities (Toronto, New York etc.) in terms of settlement, amenities, Business, Entertainment services and also find-out if it offers similar characteristics and benefits like other cities: \n",
    "\n",
    "- Check the educational system as immigrants are more concerned about availability of quality education for their offspring\n",
    "- Community settlements and how viable it is for business minded immigrants\n",
    "- Amenities and venues similar to the cities such as Toronto, New York, etc\n",
    "\n",
    "<h3>Targeted Audience</h3>\n",
    "\n",
    "This project is relevant for immigrants considering moving to the Atlantic region of Canada since the approach and methodologies used here is centered on a major cities in the region. The use of FourSquare data and mapping techniques combined with data analysis will help resolve the key questions listed in the problem description. \n",
    "\n",
    "## Data Source\n",
    "The data needed to carry-out my analysis is source from the Moncton website. The data file can be download from www.monton.ca in CSV format alongside with geospatial coordinate of the areas that have all the categories of activities that needs to be analyzed in the report.  Based on definition of the problem, factors that will influence my decision are:\n",
    "\n",
    "1. The Demographics of Moncton and its neighborhood (Dieppe, Riverview, LSD)\n",
    "2. Location of schools and educational facilities for students and working immigrants alike?\n",
    "3. Which borough is the most vibrant neighborhood for settlers\n",
    "4. Segmentation of the Borough\n",
    "5. Are there any venues like Gyms, Entertainment zones, Parks etc. for recreational activities \n",
    "6. Untapped resources for business minded immigrants etc.\n",
    "\n",
    "Following data sources will be needed to extract/generate the required information:\n",
    "•\tPart 1: http://open.moncton.ca/datasets/points-of-interest : This dataset contains points representing specific locations within the City of Moncton such as municipal facilities, schools and hospitals\n",
    "\n",
    "•\tPart 3: https://catalogue-moncton.opendata.arcgis.com/datasets/points-of-interest/data.   : Co-ordinate of neighborhood download in JSON file (https://opendata.arcgis.com/datasets/f13ec4ddadde46f6b0875047b13ec333_0.geojson)\n",
    "\n",
    "<h3>Mapping of Data</h3>\n",
    "In the listed boroughs, Dieppe is chosen as a choice of all the boroughs to work on. It is accustomed by many who have visited it as a vibrant neighborhood with key indicators for accessing how viable it is to solve our problem description, for a city like Moncton, while comparing it with other large cities such as Toronto. \n",
    "\n",
    "\n",
    "## Results and Discussion\n",
    " \n",
    "The aim of this project is to help people who want to relocate to the safest borough in Moncton, New Brunswick. Immigrants as well as citizen aspiring to relocate to this area to choose the neighborhoods to which they want to settle based on the most common venues in it. For example if a person is looking for a neighborhood with Fast-Moving Consumer Good Industry and all activities we can see that Clusters 2 and 4 have restaurant, Cuisine and café as the most common venues. If a person is looking for a neighborhood with recreational and gas station in a close proximity then the neighborhoods in the first cluster is suitable. For a family I feel that the neighborhoods in Cluster 4 are more suitable as it has the most activities, these neighborhoods have common venues such as Parks, Gym/Fitness centers, Construction, Restaurants, Groceries stores and Cricket fields which is ideal for a family.\n",
    "\n",
    "\n",
    "\n",
    "\n",
    "\n",
    "## Conclusion \n",
    "\n",
    "This project helps to have an insight into better understanding of the neighborhoods with respect to the most common venues in that neighborhood. It is always key in the use of technology to have idea and clear view of a place without having to travel miles to have a clear picture of the area i.e. finding out more about places before moving into a neighborhood. The predictor of this project includes taking other factors such as community integration to shortlist the borough based on safety and a predefined welfare of the dwellers.\n",
    "\n",
    "<b>Author: Philip IGWUBOR</b>"
   ]
  },
  {
   "cell_type": "code",
   "execution_count": null,
   "metadata": {},
   "outputs": [],
   "source": []
  }
 ],
 "metadata": {
  "kernelspec": {
   "display_name": "Python",
   "language": "python",
   "name": "conda-env-python-py"
  },
  "language_info": {
   "codemirror_mode": {
    "name": "ipython",
    "version": 3
   },
   "file_extension": ".py",
   "mimetype": "text/x-python",
   "name": "python",
   "nbconvert_exporter": "python",
   "pygments_lexer": "ipython3",
   "version": "3.6.7"
  }
 },
 "nbformat": 4,
 "nbformat_minor": 4
}
